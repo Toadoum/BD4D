{
 "cells": [
  {
   "cell_type": "code",
   "execution_count": 1,
   "metadata": {},
   "outputs": [],
   "source": [
    "import pandas as pd\n",
    "import requests \n",
    "from bs4 import BeautifulSoup "
   ]
  },
  {
   "cell_type": "code",
   "execution_count": 2,
   "metadata": {
    "scrolled": true
   },
   "outputs": [
    {
     "name": "stdout",
     "output_type": "stream",
     "text": [
      "['http://webmail.douane.gov.km']\n",
      "['http://webmail.douane.gov.km', 'http://douane.gov.km/file/textes-nationaux/2296Code%20des%20douanes%202016.pdf']\n",
      "['http://webmail.douane.gov.km', 'http://douane.gov.km/file/textes-nationaux/2296Code%20des%20douanes%202016.pdf', 'http://www.douane.gov.km/file/rapports-statistiques/1124Rapport_Douanes_2017_V_FR_BAT.pdf']\n",
      "['http://webmail.douane.gov.km', 'http://douane.gov.km/file/textes-nationaux/2296Code%20des%20douanes%202016.pdf', 'http://www.douane.gov.km/file/rapports-statistiques/1124Rapport_Douanes_2017_V_FR_BAT.pdf', 'http://www.beit-salam.km/']\n",
      "['http://webmail.douane.gov.km', 'http://douane.gov.km/file/textes-nationaux/2296Code%20des%20douanes%202016.pdf', 'http://www.douane.gov.km/file/rapports-statistiques/1124Rapport_Douanes_2017_V_FR_BAT.pdf', 'http://www.beit-salam.km/', 'http://www.wcoomd.org/']\n",
      "['http://webmail.douane.gov.km', 'http://douane.gov.km/file/textes-nationaux/2296Code%20des%20douanes%202016.pdf', 'http://www.douane.gov.km/file/rapports-statistiques/1124Rapport_Douanes_2017_V_FR_BAT.pdf', 'http://www.beit-salam.km/', 'http://www.wcoomd.org/', 'http://www.comesa.int/']\n",
      "['http://webmail.douane.gov.km', 'http://douane.gov.km/file/textes-nationaux/2296Code%20des%20douanes%202016.pdf', 'http://www.douane.gov.km/file/rapports-statistiques/1124Rapport_Douanes_2017_V_FR_BAT.pdf', 'http://www.beit-salam.km/', 'http://www.wcoomd.org/', 'http://www.comesa.int/', 'http://www.compeninst.com']\n"
     ]
    }
   ],
   "source": [
    "# Extract all hyperlinks\n",
    "import re\n",
    "url = \"https://douane.gov.km/fr/\"\n",
    "response = requests.get(url)\n",
    "html = response.text\n",
    "soup = BeautifulSoup(html, 'lxml')\n",
    "soup.find_all('a')\n",
    "\n",
    "# the find all method returns a list\n",
    "all_links = soup.find_all(\"href\")\n",
    "# Loop through the list to retrieve required attributes from the hyperlinks\n",
    "list_link=[]\n",
    "for link in soup.find_all('a',href=re.compile(\"^http://\")):\n",
    "    links=link.get(\"href\")\n",
    "    list_link.append(links)\n",
    "    print(list_link)\n",
    "    #print(link.get(\"href\"))"
   ]
  },
  {
   "cell_type": "code",
   "execution_count": null,
   "metadata": {},
   "outputs": [],
   "source": [
    "import os\n",
    "import requests\n",
    "from urllib.parse import urljoin\n",
    "from bs4 import BeautifulSoup\n",
    "#url= list_link\n",
    "#url = \"http://www.caabenin.net/index.php/publications/bulletins-statistiques\"\n",
    "\n",
    "#the script will create one folder automatically\n",
    "folder_location = r'E:\\Web_scraping_Project1'\n",
    "if not os.path.exists(folder_location):os.mkdir(folder_location)\n",
    "\n",
    "for url in list_link:\n",
    "    response = requests.get(url)\n",
    "    soup= BeautifulSoup(response.text, \"html.parser\")     \n",
    "    for link in soup.select(\"a[href$='.pdf']\"):\n",
    "        #Name the pdf files using the last portion of each link which are unique in this case\n",
    "        filename = os.path.join(folder_location,link['href'].split('/')[-1])\n",
    "        with open(filename, 'wb') as f:\n",
    "            f.write(requests.get(urljoin(url,link['href'])).content)"
   ]
  },
  {
   "cell_type": "code",
   "execution_count": null,
   "metadata": {},
   "outputs": [],
   "source": []
  }
 ],
 "metadata": {
  "kernelspec": {
   "display_name": "Python 3",
   "language": "python",
   "name": "python3"
  },
  "language_info": {
   "codemirror_mode": {
    "name": "ipython",
    "version": 3
   },
   "file_extension": ".py",
   "mimetype": "text/x-python",
   "name": "python",
   "nbconvert_exporter": "python",
   "pygments_lexer": "ipython3",
   "version": "3.7.3"
  }
 },
 "nbformat": 4,
 "nbformat_minor": 2
}
